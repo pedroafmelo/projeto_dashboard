{
 "cells": [
  {
   "cell_type": "markdown",
   "metadata": {},
   "source": [
    "# Mapeamento de bases de dados\n",
    "\n",
    "Uma observação importante é colocar a opção de visualização absoluta ou relativa"
   ]
  },
  {
   "cell_type": "markdown",
   "metadata": {},
   "source": [
    "|Feature| Fonte de Dados | Ticker|\n",
    "|-------|----------------|-------|\n",
    "|US Earnings Yield | Site |https://www.multpl.com/s-p-500-price-to-book| S&P Multiples|OK \n",
    "|Forward PE| site | https://en.macromicro.me/series/20052/sp500-forward-pe-ratio | S&P Multiples|\n",
    "|Price to book value | site | https://www.multpl.com/s-p-500-price-to-book| S&P Multiples| OK\n",
    "| S&P 500 PE | site | https://www.multpl.com/s-p-500-pe-ratio| S&P Multiples| OK\n",
    "| S&P 500 PEG | site | ver|\n",
    "|Industrial Production | FRED | INDPRO | USA Economcis Indicators|\n",
    "|CPI-Urban (Inflation) | FRED | CPIAUCSL | USA Economcis Indicators|\n",
    "|PCE| FRED | PCE | USA Economcis Indicators|\n",
    "| Aba de Risco Geopolítico Global | Black Rock | https://www.blackrock.com/corporate/insights/blackrock-investment-institute/interactive-charts/geopolitical-risk-dashboard| USA Economics Indicators|\n",
    "|2-Year US Yields | FRED | DGS2|\n",
    "|5-Year US Yields | FRED | DGS5|\n",
    "|10-Year US Yields | FRED | DGS10|\n",
    "|20-Year US Yields | FRED | DGS20|\n",
    "|30-Year US Yields | FRED | DGS30|\n",
    "|Liquidity spread | FRED | TB3SMFFM| USA Markets Indicators|\n",
    "|ICE BOFA Spread | FRED |BAMLH0A0HYM2| USA Markets Indicators|\n",
    "|Financial Conditions Index |  FRED | NFCI| USA Markets Indicators|\n",
    "|Leverage Subindex | FRED | NFCILEVERAGE | USA Markets Indicators|\n",
    "|Risk Subindex | FRED | NFCIRISK | USA Markets Indicators|\n",
    "|Non-Financial Leverage Subindex | FRED | NFCINONFINLEVERAGE| USA Market s Indicators|\n",
    "|Daily Equity Returns (Equity Volatility) | Fama French Library | NA| \n",
    "| DXY | Dolar Index | Yfinance | USA Economics Indicators|\n",
    "| Commodities Subindexes | Gold, Oil | FTSE, GSCI, 00642U.TW, ^CLTBPUDGY, ^SPGSAG | Commodities\n",
    "| Dados de mercados emergentes e desenvolvidos ex US (Risco, Risco de Crédito, múltiplos, etc)| EMB, multiplos do EEM| Emerging Markets |\n",
    "\n",
    "**Acerca dos dados explicativos**\n",
    "\n",
    "- O Earnings Yields do S&P500 é a razão entre o lucro por ação do S&P e o preço do índice, representando o retorno esperado dos lucros das empresas do índice. É como um DIvident Yield, mas com lucros por ação e não dividendo por ação;\n",
    "- O US Divident Yields representa o rendimento dos dividendos pagos pelas empresas que compõem o S&P como proporção dos preços das ações;\n",
    "- O Industrial Production mostra a produção total da indústria dos EUA, sendo uma proxy para a geração de riqueza do país;\n",
    "- CPI-Urban é um índice de preços ao consumidor para áreas urbanas dos EUA, usado para medir a inflação - A ideia é que, com a inflação alta, tenha-se um favorecimento de commodities e ativos reais, mas uma queda nos rendimentos reais de títulos, enquanto uma inflação mais baixa favoreça ações e títulos longos;\n",
    "- CAPE - O Shiller P/E mede o preço das ações dividido pela média dos lucros ajustados pela inflação dos últimos 10 anos;\n",
    "- 20 year US Yields representa o retorno dos títulos do governo dos EUA de 20 anos, similar ao de 30 anos;\n",
    "- BAA 20 Year Yields - Representa as taxas de retorno dos bonds corportaivos com grau de investimento \"BAA\", que possuem risco médio - Quando maior o spread entre isso e os títulos do governo mostra que o mercado está precificando um maior risco, o que pode significar uma possível recessão;\n",
    "- Liquidity Spread - Diferença entre a taxa do Treasury Bill de 3 meses e a Federal Funds Rate - Quanto mais alto, mais o mercado de dinheiro está restrito, ou seja, menor a liquidez, o que gera um impacto negativo nas ações;\n",
    "- Credit Subindex - Mede a disponibilidade e as condições do crédito para empresas não financeiras dos EUA - Crédito fácil, expansão econômica, favorece ações, o contrário favorece títulos públicos;\n",
    "- Leverage Subindex - mede o nível de endividamento de empresas - Empresas mais alvancadas podem significar maior risco para empresas e possivelmente crises financeiras, afestando o risco sistêmico;\n",
    "- Risk Subindex - mede o nível de risco percebido nos mercados financeiros;\n",
    "- Non Financial Leverage Subindex está óbvio;\n",
    "- Daily Equity Returns - Mede os retornos diários das ações e o quanto elas estão voláteis então;"
   ]
  },
  {
   "cell_type": "code",
   "execution_count": 4,
   "metadata": {},
   "outputs": [],
   "source": [
    "import yfinance as yf"
   ]
  },
  {
   "cell_type": "code",
   "execution_count": 9,
   "metadata": {},
   "outputs": [
    {
     "name": "stderr",
     "output_type": "stream",
     "text": [
      "[*********************100%***********************]  1 of 1 completed\n"
     ]
    },
    {
     "data": {
      "text/html": [
       "<div>\n",
       "<style scoped>\n",
       "    .dataframe tbody tr th:only-of-type {\n",
       "        vertical-align: middle;\n",
       "    }\n",
       "\n",
       "    .dataframe tbody tr th {\n",
       "        vertical-align: top;\n",
       "    }\n",
       "\n",
       "    .dataframe thead tr th {\n",
       "        text-align: left;\n",
       "    }\n",
       "\n",
       "    .dataframe thead tr:last-of-type th {\n",
       "        text-align: right;\n",
       "    }\n",
       "</style>\n",
       "<table border=\"1\" class=\"dataframe\">\n",
       "  <thead>\n",
       "    <tr>\n",
       "      <th>Price</th>\n",
       "      <th>Close</th>\n",
       "      <th>High</th>\n",
       "      <th>Low</th>\n",
       "      <th>Open</th>\n",
       "      <th>Volume</th>\n",
       "    </tr>\n",
       "    <tr>\n",
       "      <th>Ticker</th>\n",
       "      <th>EMB</th>\n",
       "      <th>EMB</th>\n",
       "      <th>EMB</th>\n",
       "      <th>EMB</th>\n",
       "      <th>EMB</th>\n",
       "    </tr>\n",
       "    <tr>\n",
       "      <th>Date</th>\n",
       "      <th></th>\n",
       "      <th></th>\n",
       "      <th></th>\n",
       "      <th></th>\n",
       "      <th></th>\n",
       "    </tr>\n",
       "  </thead>\n",
       "  <tbody>\n",
       "    <tr>\n",
       "      <th>2022-01-03</th>\n",
       "      <td>92.349152</td>\n",
       "      <td>92.990584</td>\n",
       "      <td>92.306387</td>\n",
       "      <td>92.973475</td>\n",
       "      <td>7038900</td>\n",
       "    </tr>\n",
       "    <tr>\n",
       "      <th>2022-01-04</th>\n",
       "      <td>92.297806</td>\n",
       "      <td>92.503069</td>\n",
       "      <td>92.143862</td>\n",
       "      <td>92.400437</td>\n",
       "      <td>5048300</td>\n",
       "    </tr>\n",
       "    <tr>\n",
       "      <th>2022-01-05</th>\n",
       "      <td>91.416893</td>\n",
       "      <td>92.306346</td>\n",
       "      <td>91.416893</td>\n",
       "      <td>92.306346</td>\n",
       "      <td>7721100</td>\n",
       "    </tr>\n",
       "    <tr>\n",
       "      <th>2022-01-06</th>\n",
       "      <td>91.331398</td>\n",
       "      <td>91.416921</td>\n",
       "      <td>91.091931</td>\n",
       "      <td>91.134689</td>\n",
       "      <td>8509900</td>\n",
       "    </tr>\n",
       "    <tr>\n",
       "      <th>2022-01-07</th>\n",
       "      <td>91.151802</td>\n",
       "      <td>91.262981</td>\n",
       "      <td>90.878125</td>\n",
       "      <td>91.177458</td>\n",
       "      <td>6154800</td>\n",
       "    </tr>\n",
       "    <tr>\n",
       "      <th>...</th>\n",
       "      <td>...</td>\n",
       "      <td>...</td>\n",
       "      <td>...</td>\n",
       "      <td>...</td>\n",
       "      <td>...</td>\n",
       "    </tr>\n",
       "    <tr>\n",
       "      <th>2023-12-22</th>\n",
       "      <td>83.939178</td>\n",
       "      <td>84.193708</td>\n",
       "      <td>83.844909</td>\n",
       "      <td>84.071158</td>\n",
       "      <td>1791700</td>\n",
       "    </tr>\n",
       "    <tr>\n",
       "      <th>2023-12-26</th>\n",
       "      <td>84.240852</td>\n",
       "      <td>84.240852</td>\n",
       "      <td>83.816634</td>\n",
       "      <td>83.854336</td>\n",
       "      <td>2646100</td>\n",
       "    </tr>\n",
       "    <tr>\n",
       "      <th>2023-12-27</th>\n",
       "      <td>84.542526</td>\n",
       "      <td>84.589665</td>\n",
       "      <td>84.231429</td>\n",
       "      <td>84.353986</td>\n",
       "      <td>3327200</td>\n",
       "    </tr>\n",
       "    <tr>\n",
       "      <th>2023-12-28</th>\n",
       "      <td>84.306854</td>\n",
       "      <td>84.467114</td>\n",
       "      <td>84.146595</td>\n",
       "      <td>84.297425</td>\n",
       "      <td>2700200</td>\n",
       "    </tr>\n",
       "    <tr>\n",
       "      <th>2023-12-29</th>\n",
       "      <td>83.958038</td>\n",
       "      <td>84.316274</td>\n",
       "      <td>83.939187</td>\n",
       "      <td>84.099447</td>\n",
       "      <td>3815500</td>\n",
       "    </tr>\n",
       "  </tbody>\n",
       "</table>\n",
       "<p>501 rows × 5 columns</p>\n",
       "</div>"
      ],
      "text/plain": [
       "Price           Close       High        Low       Open   Volume\n",
       "Ticker            EMB        EMB        EMB        EMB      EMB\n",
       "Date                                                           \n",
       "2022-01-03  92.349152  92.990584  92.306387  92.973475  7038900\n",
       "2022-01-04  92.297806  92.503069  92.143862  92.400437  5048300\n",
       "2022-01-05  91.416893  92.306346  91.416893  92.306346  7721100\n",
       "2022-01-06  91.331398  91.416921  91.091931  91.134689  8509900\n",
       "2022-01-07  91.151802  91.262981  90.878125  91.177458  6154800\n",
       "...               ...        ...        ...        ...      ...\n",
       "2023-12-22  83.939178  84.193708  83.844909  84.071158  1791700\n",
       "2023-12-26  84.240852  84.240852  83.816634  83.854336  2646100\n",
       "2023-12-27  84.542526  84.589665  84.231429  84.353986  3327200\n",
       "2023-12-28  84.306854  84.467114  84.146595  84.297425  2700200\n",
       "2023-12-29  83.958038  84.316274  83.939187  84.099447  3815500\n",
       "\n",
       "[501 rows x 5 columns]"
      ]
     },
     "execution_count": 9,
     "metadata": {},
     "output_type": "execute_result"
    }
   ],
   "source": [
    "yf.download(\"EMB\", start=\"2022-01-01\", end=\"2024-01-01\")"
   ]
  },
  {
   "cell_type": "code",
   "execution_count": 3,
   "metadata": {},
   "outputs": [],
   "source": [
    "import pandas_datareader.data as pdr"
   ]
  },
  {
   "cell_type": "code",
   "execution_count": 2,
   "metadata": {},
   "outputs": [],
   "source": [
    "from os import mkdir, makedirs"
   ]
  },
  {
   "cell_type": "code",
   "execution_count": 1,
   "metadata": {},
   "outputs": [],
   "source": [
    "import pandas as pd"
   ]
  },
  {
   "cell_type": "code",
   "execution_count": 12,
   "metadata": {},
   "outputs": [],
   "source": [
    "import yfinance as yf"
   ]
  },
  {
   "cell_type": "markdown",
   "metadata": {},
   "source": []
  },
  {
   "cell_type": "code",
   "execution_count": 3,
   "metadata": {},
   "outputs": [],
   "source": [
    "from fredapi import Fred\n",
    "\n",
    "FRED_API_KEY = \"97d32927fcbb695624a531ded0e8bf4b\"\n",
    "\n",
    "fred = Fred(api_key=FRED_API_KEY)"
   ]
  },
  {
   "cell_type": "code",
   "execution_count": null,
   "metadata": {},
   "outputs": [],
   "source": [
    "fred.get_series(\"\")"
   ]
  },
  {
   "cell_type": "code",
   "execution_count": 4,
   "metadata": {},
   "outputs": [],
   "source": [
    "from bs4 import BeautifulSoup\n",
    "import requests\n",
    "import os\n",
    "from os import system"
   ]
  },
  {
   "cell_type": "code",
   "execution_count": 8,
   "metadata": {},
   "outputs": [
    {
     "name": "stderr",
     "output_type": "stream",
     "text": [
      "--2025-02-12 11:08:57--  https://www.anbima.com.br/feriados/arqs/feriados_nacionais.xls\n",
      "Resolving www.anbima.com.br (www.anbima.com.br)... 104.89.185.19\n",
      "Connecting to www.anbima.com.br (www.anbima.com.br)|104.89.185.19|:443... connected.\n",
      "HTTP request sent, awaiting response... 200 OK\n",
      "Length: 111104 (108K) [application/vnd.ms-excel]\n",
      "Saving to: ‘data/feriados.xls’\n",
      "\n",
      "     0K .......... .......... .......... .......... .......... 46%  261K 0s\n",
      "    50K .......... .......... .......... .......... .......... 92%  603K 0s\n",
      "   100K ........                                              100%  170K=0,3s\n",
      "\n",
      "2025-02-12 11:08:58 (396 KB/s) - ‘data/feriados.xls’ saved [111104/111104]\n",
      "\n"
     ]
    },
    {
     "data": {
      "text/plain": [
       "0"
      ]
     },
     "execution_count": 8,
     "metadata": {},
     "output_type": "execute_result"
    }
   ],
   "source": [
    "data_dict_os_cmd = (\n",
    "                    f\"wget --limit-rate 10000k \"\n",
    "                    f\"--no-check-certificate -c https://www.anbima.com.br/feriados/arqs/feriados_nacionais.xls -O data/feriados.xls\"\n",
    "                )\n",
    "system(data_dict_os_cmd)"
   ]
  }
 ],
 "metadata": {
  "kernelspec": {
   "display_name": ".venv",
   "language": "python",
   "name": "python3"
  },
  "language_info": {
   "codemirror_mode": {
    "name": "ipython",
    "version": 3
   },
   "file_extension": ".py",
   "mimetype": "text/x-python",
   "name": "python",
   "nbconvert_exporter": "python",
   "pygments_lexer": "ipython3",
   "version": "3.12.0"
  }
 },
 "nbformat": 4,
 "nbformat_minor": 2
}
